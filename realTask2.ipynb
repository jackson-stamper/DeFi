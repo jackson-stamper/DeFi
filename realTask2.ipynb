{
 "cells": [
  {
   "cell_type": "code",
   "execution_count": 74,
   "metadata": {},
   "outputs": [],
   "source": [
    "import requests\n",
    "import pandas as pd\n",
    "from pycoingecko import CoinGeckoAPI\n",
    "import time\n",
    "import datetime\n",
    "import psycopg2"
   ]
  },
  {
   "cell_type": "code",
   "execution_count": 75,
   "metadata": {},
   "outputs": [],
   "source": [
    "cg = CoinGeckoAPI()"
   ]
  },
  {
   "cell_type": "code",
   "execution_count": 76,
   "metadata": {},
   "outputs": [],
   "source": [
    "#Connect the dbname to the name of the database we create\n",
    "conn = psycopg2.connect(\"host=localhost dbname='task2Playground' user='postgres' password='Runner48'\")\n",
    "cur = conn.cursor()\n"
   ]
  },
  {
   "cell_type": "code",
   "execution_count": 77,
   "metadata": {},
   "outputs": [],
   "source": [
    "#creates a lists for naming each table\n",
    "coins = ['ethereum', 'yearnFinance', 'chainlink', 'ethlend', 'uniswap', 'havven', 'uma', 'nxm', 'rarible']\n",
    "coin = ['ethereum', 'yearn-finance', 'chainlink', 'ethlend', 'uniswap', 'havven', 'uma', 'nxm', 'rarible']"
   ]
  },
  {
   "cell_type": "code",
   "execution_count": 78,
   "metadata": {},
   "outputs": [],
   "source": [
    "#Create each table in the databse\n",
    "for i in range(len(coins)):\n",
    "    cur.execute(f\"\"\"\n",
    "    CREATE TABLE IF NOT EXISTS {coins[i]} (\n",
    "    coin_id SERIAL PRIMARY KEY,\n",
    "    date TIMESTAMP NOT NULL,\n",
    "    price decimal NOT NULL\n",
    ")\n",
    "             \"\"\")"
   ]
  },
  {
   "cell_type": "code",
   "execution_count": 79,
   "metadata": {},
   "outputs": [],
   "source": [
    "conn.commit()"
   ]
  },
  {
   "cell_type": "code",
   "execution_count": 53,
   "metadata": {},
   "outputs": [
    {
     "name": "stdout",
     "output_type": "stream",
     "text": [
      "351.69\n"
     ]
    }
   ],
   "source": [
    "token_prices = cg.get_price(ids=coin, vs_currencies='usd')\n",
    "cur.execute(f\"INSERT INTO {coin[x]} (price)VALUES (token_prices)\", values)\n",
    "#print(token_prices)\n",
    "#for x in range(len(coins)):\n",
    "    #cur.execute(f\"INSERT INTO {coin[x]} (price)VALUES ()\", values)\n",
    "print(token_prices['ethereum']['usd'])\n",
    "#     values.append(now)\n",
    "#     values.append()\n",
    "# time.sleep(120)"
   ]
  },
  {
   "cell_type": "code",
   "execution_count": 14,
   "metadata": {},
   "outputs": [],
   "source": [
    "ethlend_price = token_prices['ethlend']['usd']"
   ]
  },
  {
   "cell_type": "code",
   "execution_count": 15,
   "metadata": {},
   "outputs": [
    {
     "data": {
      "text/plain": [
       "0.570817"
      ]
     },
     "execution_count": 15,
     "metadata": {},
     "output_type": "execute_result"
    }
   ],
   "source": [
    "ethlend_price"
   ]
  },
  {
   "cell_type": "code",
   "execution_count": 54,
   "metadata": {},
   "outputs": [
    {
     "data": {
      "text/plain": [
       "{'ethlend': {'usd': 0.575391},\n",
       " 'chainlink': {'usd': 9.62},\n",
       " 'havven': {'usd': 4.62},\n",
       " 'uma': {'usd': 8.54},\n",
       " 'ethereum': {'usd': 351.72},\n",
       " 'yearn-finance': {'usd': 22400},\n",
       " 'rarible': {'usd': 6.21},\n",
       " 'uniswap': {'usd': 4.2},\n",
       " 'nxm': {'usd': 35.14}}"
      ]
     },
     "execution_count": 54,
     "metadata": {},
     "output_type": "execute_result"
    }
   ],
   "source": [
    "cg.get_price(ids=coin, vs_currencies='usd')"
   ]
  },
  {
   "cell_type": "code",
   "execution_count": 64,
   "metadata": {},
   "outputs": [
    {
     "name": "stdout",
     "output_type": "stream",
     "text": [
      "this coin is ethereum\n",
      "this coin is yearn-finance\n",
      "this coin is chainlink\n",
      "this coin is ethlend\n",
      "this coin is uniswap\n",
      "this coin is havven\n",
      "this coin is uma\n",
      "this coin is nxm\n",
      "this coin is rarible\n"
     ]
    }
   ],
   "source": [
    "for item in range(len(coin)):\n",
    "        print(\"this coin is\", coin[item])"
   ]
  },
  {
   "cell_type": "code",
   "execution_count": null,
   "metadata": {},
   "outputs": [],
   "source": []
  }
 ],
 "metadata": {
  "kernelspec": {
   "display_name": "Python 3",
   "language": "python",
   "name": "python3"
  },
  "language_info": {
   "codemirror_mode": {
    "name": "ipython",
    "version": 3
   },
   "file_extension": ".py",
   "mimetype": "text/x-python",
   "name": "python",
   "nbconvert_exporter": "python",
   "pygments_lexer": "ipython3",
   "version": "3.8.3"
  }
 },
 "nbformat": 4,
 "nbformat_minor": 4
}
